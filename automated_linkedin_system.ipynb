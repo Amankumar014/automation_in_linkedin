{
  "nbformat": 4,
  "nbformat_minor": 0,
  "metadata": {
    "colab": {
      "provenance": [],
      "authorship_tag": "ABX9TyPnlnfolLX1kZVUfcx6TUbc",
      "include_colab_link": true
    },
    "kernelspec": {
      "name": "python3",
      "display_name": "Python 3"
    },
    "language_info": {
      "name": "python"
    }
  },
  "cells": [
    {
      "cell_type": "markdown",
      "metadata": {
        "id": "view-in-github",
        "colab_type": "text"
      },
      "source": [
        "<a href=\"https://colab.research.google.com/github/Amankumar014/automation_in_linkedin/blob/main/automated_linkedin_system.ipynb\" target=\"_parent\"><img src=\"https://colab.research.google.com/assets/colab-badge.svg\" alt=\"Open In Colab\"/></a>"
      ]
    },
    {
      "cell_type": "markdown",
      "source": [
        "# .........Creating an automated system that monitors competitors' LinkedIn activity"
      ],
      "metadata": {
        "id": "OhUm0X7232WE"
      }
    },
    {
      "cell_type": "markdown",
      "source": [
        "## Importing useful pakages"
      ],
      "metadata": {
        "id": "maFNHwqY4Z4_"
      }
    },
    {
      "cell_type": "code",
      "source": [
        "!pip install linkedin_api"
      ],
      "metadata": {
        "colab": {
          "base_uri": "https://localhost:8080/"
        },
        "id": "eG5xTajsEXSO",
        "outputId": "c5fb6430-e7fe-4a5d-d485-8c73ac81537e"
      },
      "execution_count": 1,
      "outputs": [
        {
          "output_type": "stream",
          "name": "stdout",
          "text": [
            "Collecting linkedin_api\n",
            "  Downloading linkedin_api-2.0.1-py3-none-any.whl (22 kB)\n",
            "Requirement already satisfied: requests in /usr/local/lib/python3.10/dist-packages (from linkedin_api) (2.31.0)\n",
            "Requirement already satisfied: beautifulsoup4 in /usr/local/lib/python3.10/dist-packages (from linkedin_api) (4.11.2)\n",
            "Requirement already satisfied: lxml in /usr/local/lib/python3.10/dist-packages (from linkedin_api) (4.9.3)\n",
            "Requirement already satisfied: soupsieve>1.2 in /usr/local/lib/python3.10/dist-packages (from beautifulsoup4->linkedin_api) (2.4.1)\n",
            "Requirement already satisfied: charset-normalizer<4,>=2 in /usr/local/lib/python3.10/dist-packages (from requests->linkedin_api) (3.2.0)\n",
            "Requirement already satisfied: idna<4,>=2.5 in /usr/local/lib/python3.10/dist-packages (from requests->linkedin_api) (3.4)\n",
            "Requirement already satisfied: urllib3<3,>=1.21.1 in /usr/local/lib/python3.10/dist-packages (from requests->linkedin_api) (2.0.4)\n",
            "Requirement already satisfied: certifi>=2017.4.17 in /usr/local/lib/python3.10/dist-packages (from requests->linkedin_api) (2023.7.22)\n",
            "Installing collected packages: linkedin_api\n",
            "Successfully installed linkedin_api-2.0.1\n"
          ]
        }
      ]
    },
    {
      "cell_type": "code",
      "source": [
        "from linkedin_api import Linkedin\n",
        "from linkedin_api.client import ChallengeException\n",
        "from bs4 import BeautifulSoup\n",
        "import requests\n"
      ],
      "metadata": {
        "id": "J3vBTygC50_u"
      },
      "execution_count": 2,
      "outputs": []
    },
    {
      "cell_type": "markdown",
      "source": [
        "## Step 1: Monitoring Competitors' Activity"
      ],
      "metadata": {
        "id": "9UmBaVFU627x"
      }
    },
    {
      "cell_type": "code",
      "source": [
        "def monitor_competitors():\n",
        "    competitor_profile_link = [\n",
        "        'https://www.linkedin.com/in/rsashikumar/',\n",
        "        'https://www.linkedin.com/in/nitin-22by7/',\n",
        "        'https://www.linkedin.com/in/rajesh-kumar-314264a9/',\n",
        "    ]\n",
        "\n",
        "    new_connections = []\n",
        "\n",
        "    for profile_link in competitor_profile_link:\n",
        "        # getting the urls of the competitors profile and storing it in the response variable.\n",
        "        response = requests.get(profile_link)\n",
        "\n",
        "        if response.status_code == 200 or response.status_code == 201:  # 200 and 201 means the code runned successfully.\n",
        "            soup = BeautifulSoup(response.text, 'html.parser') # we are trying to get the html content of the response for further use .\n",
        "            connections_section = soup.find('section', {'id': 'connections'})\n",
        "\n",
        "\n",
        "            if connections_section:\n",
        "                # Extract the list of connections\n",
        "                connections = connections_section.find_all('li', {'class': 'connection-item'})\n",
        "\n",
        "                for connection in connections:\n",
        "                    # Extract the connection details (name, profile URL, etc.)\n",
        "                    connection_name = connection.find('span', {'class': 'actor-name'}).text\n",
        "                    connection_profile_url = connection.find('a')['href']\n",
        "\n",
        "                    # Store the connection data in a dictionary\n",
        "                    connection_data = {\n",
        "                        'name': connection_name,\n",
        "                        'profile_url': connection_profile_url,\n",
        "                    }\n",
        "\n",
        "                    new_connections.append(connection_data)\n",
        "\n",
        "    return new_connections"
      ],
      "metadata": {
        "id": "k8aOvS897pG4"
      },
      "execution_count": 3,
      "outputs": []
    },
    {
      "cell_type": "markdown",
      "source": [
        "## Step 2 : Analysing connections profile"
      ],
      "metadata": {
        "id": "v5c4MCSUOm0p"
      }
    },
    {
      "cell_type": "code",
      "source": [
        "def analyze_profile(profile_url):\n",
        "    profile_data = {}\n",
        "\n",
        "    # Fetch the LinkedIn profile page\n",
        "    response = requests.get(profile_url)\n",
        "\n",
        "    if response.status_code == 200 or response.status_code == 201:\n",
        "        soup = BeautifulSoup(response.text, 'html.parser')\n",
        "\n",
        "        # Extracting the 'About' section of the profile in linkedin\n",
        "\n",
        "\n",
        "        about_section = soup.find('section', {'class': 'artdeco-card ember-view relative break-words pb3'})\n",
        "        if about_section:\n",
        "            about_text = about_section.find('span').text.strip()\n",
        "            profile_data['about'] = about_text\n",
        "\n",
        "        # Extract the job title and company name\n",
        "        experience_section = soup.find('section', {'id': 'experience-section'})\n",
        "        if experience_section:\n",
        "            job_title_element = experience_section.find('span', {'class': 't-16 t-black t-bold'})\n",
        "            company_element = experience_section.find('span', {'class': 'pv-entity__secondary-title t-14 t-black t-normal'})\n",
        "\n",
        "            if job_title_element:\n",
        "                job_title_text = job_title_element.text.strip()\n",
        "                profile_data['job_title'] = job_title_text\n",
        "\n",
        "            if company_element:\n",
        "                company_text = company_element.text.strip()\n",
        "                profile_data['company'] = company_text\n",
        "\n",
        "    return profile_data"
      ],
      "metadata": {
        "id": "w4qhdjTgOzb3"
      },
      "execution_count": 4,
      "outputs": []
    },
    {
      "cell_type": "markdown",
      "source": [
        "## Step 3 : Generating messages"
      ],
      "metadata": {
        "id": "Z7r7RlumPQ6s"
      }
    },
    {
      "cell_type": "code",
      "source": [
        "def generate_message(profile_data):\n",
        "    message_template = \"Hi {name}, I noticed that you recently connected with one of my competitors on LinkedIn. I would love to connect with you as well and learn more about your work at {company}.\"\n",
        "\n",
        "    name = profile_data.get('name')\n",
        "    company = profile_data.get('company')\n",
        "\n",
        "    if name and company:\n",
        "        message_text = message_template.format(name=name, company=company)\n",
        "        return message_text\n",
        "\n",
        "    return None"
      ],
      "metadata": {
        "id": "gwYnFMgEPppe"
      },
      "execution_count": 5,
      "outputs": []
    },
    {
      "cell_type": "markdown",
      "source": [
        "## Step 4 : Sending connection request"
      ],
      "metadata": {
        "id": "9hkg4I4CPxnm"
      }
    },
    {
      "cell_type": "code",
      "source": [
        "def send_connection_request(linkedin_client, profile_url):\n",
        "    try:\n",
        "        # Fetch the LinkedIn profile ID from the URL\n",
        "        profile_id_start_index = profile_url.rfind('/') + 1 # it will mark the start of the profile ID after the last / symbol\n",
        "        profile_id_end_index = profile_url.rfind('?') # it will mark the end of the profile ID\n",
        "        if profile_id_end_index == -1: # if profile id end index is not found i.e -1 , it is set to be the length of the url , considering that there are no query parameters\n",
        "            profile_id_end_index = len(profile_url)\n",
        "\n",
        "        profile_id = profile_url[profile_id_start_index:profile_id_end_index]\n",
        "\n",
        "        # Send the connection request with a personalized message\n",
        "        message_text = generate_message(analyze_profile(profile_url))\n",
        "\n",
        "        if message_text:\n",
        "            linkedin_client.send_invitation(\n",
        "                invitation_message=message_text,\n",
        "                profile_id=profile_id,\n",
        "            )\n",
        "\n",
        "            print(f\"Connection request sent to {profile_url}\")\n",
        "\n",
        "    except ChallengeException as e:\n",
        "        print(f\"Failed to send connection request to {profile_url}: {e}\")"
      ],
      "metadata": {
        "id": "Kirt6kRMP24B"
      },
      "execution_count": 6,
      "outputs": []
    }
  ]
}